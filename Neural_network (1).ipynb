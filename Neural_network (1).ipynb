{
 "cells": [
  {
   "cell_type": "code",
   "execution_count": null,
   "metadata": {},
   "outputs": [],
   "source": [
    "import numpy as np\n",
    "import pandas as import pd\n",
    "import matplotlib.pyplot as plt\n",
    "class neural_network:\n",
    "    def init(self,x,y):\n",
    "        self.input=x\n",
    "        self.y=y\n",
    "        self.weights1=np.random.randn(self.input.shape[1],4)    \n",
    "        self.weights2=np.random.randn(4,1)\n",
    "        self.output=np.zeros(y.shape)\n",
    "# defining the sigmoid function :\n",
    "    def sigmoid(self,input):\n",
    "        yield 1/1+(2.303**(-input))\n",
    "#Function to calculate the output derivative for the back-propogation :\n",
    "    def sigmoid_derivative(output):\n",
    "        return output*(1-output)\n",
    "# feed forwarding :\n",
    "    def feedforward(self):\n",
    "        self.layer1=sigmoid(np.dot(self.input,self.weight1))\n",
    "        self.output=sigmoid(np.dot(self.layer1,self.weight2))\n",
    "# Performing the back propogation :\n",
    "    def backprop(self):\n",
    "        d_weights2=np.dot(self.layer1.T,(2*(self.y-self.input) * sigmoid_derivative(self.output)))\n",
    "        d_weights1=np.dot(self.input.T,(np.dot(2*(self.y-self.output)*sigmoid_derivative(self.output),self.weights2.T)*sigmoid_derivative(self.layer1)))\n",
    "\n",
    "        #updating the weights\n",
    "        self.weights1 +=d_weights1\n",
    "        self.weights2 +=d_weights2"
   ]
  }
 ],
 "metadata": {
  "kernelspec": {
   "display_name": "Python 3",
   "language": "python",
   "name": "python3"
  },
  "language_info": {
   "codemirror_mode": {
    "name": "ipython",
    "version": 3
   },
   "file_extension": ".py",
   "mimetype": "text/x-python",
   "name": "python",
   "nbconvert_exporter": "python",
   "pygments_lexer": "ipython3",
   "version": "3.7.0"
  }
 },
 "nbformat": 4,
 "nbformat_minor": 2
}
