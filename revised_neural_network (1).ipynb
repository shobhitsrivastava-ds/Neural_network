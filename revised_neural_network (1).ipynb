{
 "cells": [
  {
   "cell_type": "code",
   "execution_count": 5,
   "metadata": {},
   "outputs": [],
   "source": [
    "#designing neural network of :\n",
    "class neural:\n",
    "    def __init__(self,lr,X,y,n_iter):\n",
    "        self.lr=lr\n",
    "        self.X=X\n",
    "        self.y=y\n",
    "        self.n_iter=n_iter\n",
    "        self.weight_1=np.random.randn(4,5)\n",
    "        self.weight_2=np.random.randn(5,1)\n",
    "    # Calculating the sigmoid function :\n",
    "    def sigmoid(self,hypo,bval):\n",
    "        if(bval == True):\n",
    "            return 1/1+np.exp**hypo\n",
    "        else :\n",
    "            return hypo*(1-hypo)\n",
    "    def function(self):\n",
    "        for i in range(n_iter):\n",
    "            lo=X\n",
    "            l1=sigmoid(np.dot(X,weight_1),True)\n",
    "            l2=sigmoid(np.dot(l1,weight_2),True)\n",
    "            error=y-l2\n",
    "            l2_delta=error*sigmoid(l2,False)\n",
    "            l1_error=l2_delta.dot(weight_2)\n",
    "            \n",
    "            l1_delta=l1_error *sigmoid(l1,False)\n",
    "\n",
    "            weight_2 +=l1.T.dot(l2_delta)\n",
    "            weight_1 +=lo.T.dot(l1_delta)\n",
    "            if(i%n_iter==0):\n",
    "                print(\"error= {}\".format(np.mean(np.abs(error))))\n"
   ]
  },
  {
   "cell_type": "code",
   "execution_count": null,
   "metadata": {},
   "outputs": [],
   "source": []
  }
 ],
 "metadata": {
  "kernelspec": {
   "display_name": "Python 3",
   "language": "python",
   "name": "python3"
  },
  "language_info": {
   "codemirror_mode": {
    "name": "ipython",
    "version": 3
   },
   "file_extension": ".py",
   "mimetype": "text/x-python",
   "name": "python",
   "nbconvert_exporter": "python",
   "pygments_lexer": "ipython3",
   "version": "3.7.0"
  }
 },
 "nbformat": 4,
 "nbformat_minor": 2
}
